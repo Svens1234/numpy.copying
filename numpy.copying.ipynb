{
 "cells": [
  {
   "cell_type": "code",
   "execution_count": 1,
   "id": "58fe5155",
   "metadata": {},
   "outputs": [],
   "source": [
    "import numpy as np\n",
    "import matplotlib.pyplot as plt"
   ]
  },
  {
   "cell_type": "code",
   "execution_count": 2,
   "id": "632fc48f",
   "metadata": {},
   "outputs": [],
   "source": [
    "cp_arr_1 = np.random.randint(10, size=(2, 2))"
   ]
  },
  {
   "cell_type": "code",
   "execution_count": 3,
   "id": "54b2d0f6",
   "metadata": {},
   "outputs": [],
   "source": [
    "cp_arr_2 = cp_arr_1"
   ]
  },
  {
   "cell_type": "code",
   "execution_count": 4,
   "id": "7f6cb90a",
   "metadata": {},
   "outputs": [
    {
     "data": {
      "text/plain": [
       "array([[7, 7],\n",
       "       [9, 0]])"
      ]
     },
     "execution_count": 4,
     "metadata": {},
     "output_type": "execute_result"
    }
   ],
   "source": [
    "cp_arr_1 "
   ]
  },
  {
   "cell_type": "code",
   "execution_count": 5,
   "id": "16986168",
   "metadata": {},
   "outputs": [
    {
     "data": {
      "text/plain": [
       "array([[7, 7],\n",
       "       [9, 0]])"
      ]
     },
     "execution_count": 5,
     "metadata": {},
     "output_type": "execute_result"
    }
   ],
   "source": [
    "cp_arr_2"
   ]
  },
  {
   "cell_type": "code",
   "execution_count": 6,
   "id": "ad55e7f4",
   "metadata": {},
   "outputs": [],
   "source": [
    "cp_arr_1[0,0] = 2"
   ]
  },
  {
   "cell_type": "code",
   "execution_count": 7,
   "id": "bd2bce6f",
   "metadata": {},
   "outputs": [
    {
     "name": "stdout",
     "output_type": "stream",
     "text": [
      "cp_arr_1\n",
      " [[2 7]\n",
      " [9 0]]\n"
     ]
    }
   ],
   "source": [
    "print(\"cp_arr_1\\n\", cp_arr_1)"
   ]
  },
  {
   "cell_type": "code",
   "execution_count": 8,
   "id": "3c78a065",
   "metadata": {},
   "outputs": [
    {
     "name": "stdout",
     "output_type": "stream",
     "text": [
      "cp_arr_2\n",
      " [[2 7]\n",
      " [9 0]]\n"
     ]
    }
   ],
   "source": [
    "print(\"cp_arr_2\\n\", cp_arr_2)"
   ]
  },
  {
   "cell_type": "code",
   "execution_count": 9,
   "id": "aba70311",
   "metadata": {},
   "outputs": [],
   "source": [
    "cp_arr_3 = cp_arr_1.view()"
   ]
  },
  {
   "cell_type": "code",
   "execution_count": 10,
   "id": "b1be3cb7",
   "metadata": {},
   "outputs": [
    {
     "name": "stdout",
     "output_type": "stream",
     "text": [
      "cp_arr_3\n",
      " [[2 7]\n",
      " [9 0]]\n"
     ]
    }
   ],
   "source": [
    "print(\"cp_arr_3\\n\", cp_arr_3)"
   ]
  },
  {
   "cell_type": "code",
   "execution_count": 11,
   "id": "273c0c90",
   "metadata": {},
   "outputs": [],
   "source": [
    "cp_arr_3 = cp_arr_3.flatten('F')"
   ]
  },
  {
   "cell_type": "code",
   "execution_count": 12,
   "id": "1b5b3a03",
   "metadata": {},
   "outputs": [
    {
     "name": "stdout",
     "output_type": "stream",
     "text": [
      "cp_arr_3\n",
      " [2 9 7 0]\n"
     ]
    }
   ],
   "source": [
    "print(\"cp_arr_3\\n\", cp_arr_3)"
   ]
  },
  {
   "cell_type": "code",
   "execution_count": 13,
   "id": "2867f916",
   "metadata": {},
   "outputs": [
    {
     "name": "stdout",
     "output_type": "stream",
     "text": [
      "cp_arr_1\n",
      " [[2 7]\n",
      " [9 0]]\n"
     ]
    }
   ],
   "source": [
    "print(\"cp_arr_1\\n\", cp_arr_1)"
   ]
  },
  {
   "cell_type": "code",
   "execution_count": 14,
   "id": "bbd3ba70",
   "metadata": {},
   "outputs": [],
   "source": [
    "cp_arr_4 = cp_arr_1.copy()"
   ]
  },
  {
   "cell_type": "code",
   "execution_count": 15,
   "id": "252e5bd6",
   "metadata": {},
   "outputs": [
    {
     "data": {
      "text/plain": [
       "array([[2, 7],\n",
       "       [9, 0]])"
      ]
     },
     "execution_count": 15,
     "metadata": {},
     "output_type": "execute_result"
    }
   ],
   "source": [
    "cp_arr_4"
   ]
  },
  {
   "cell_type": "code",
   "execution_count": null,
   "id": "a7b5da3d",
   "metadata": {},
   "outputs": [],
   "source": []
  }
 ],
 "metadata": {
  "kernelspec": {
   "display_name": "Python 3 (ipykernel)",
   "language": "python",
   "name": "python3"
  },
  "language_info": {
   "codemirror_mode": {
    "name": "ipython",
    "version": 3
   },
   "file_extension": ".py",
   "mimetype": "text/x-python",
   "name": "python",
   "nbconvert_exporter": "python",
   "pygments_lexer": "ipython3",
   "version": "3.8.7"
  }
 },
 "nbformat": 4,
 "nbformat_minor": 5
}
